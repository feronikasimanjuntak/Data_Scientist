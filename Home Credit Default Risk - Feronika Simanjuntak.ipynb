{
 "cells": [
  {
   "cell_type": "markdown",
   "id": "5d708ecd",
   "metadata": {},
   "source": [
    "# Case Study: Home Credit Default Risk"
   ]
  },
  {
   "cell_type": "markdown",
   "id": "cf42ecaa",
   "metadata": {},
   "source": [
    "### OBJECTIVE 1"
   ]
  },
  {
   "cell_type": "markdown",
   "id": "0329935e",
   "metadata": {},
   "source": [
    "##### Load Data"
   ]
  },
  {
   "cell_type": "code",
   "execution_count": null,
   "id": "eb45ac8f",
   "metadata": {},
   "outputs": [],
   "source": [
    "import numpy as np\n",
    "import pandas as pd\n",
    "import matplotlib.pyplot as plt\n",
    "\n",
    "fileLocation = '../COURSE/RAKAMIN DATA SCIENTIST/INTERNSHIP/WEEK 4/TASK/home-credit-default-risk/application_test.csv'\n",
    "df = pd.read_csv(fileLocation)"
   ]
  },
  {
   "cell_type": "markdown",
   "id": "e3945c4d",
   "metadata": {},
   "source": [
    "##### Show Spesific Column in Table 'application_test.csv'"
   ]
  },
  {
   "cell_type": "code",
   "execution_count": null,
   "id": "8e4946ac",
   "metadata": {},
   "outputs": [],
   "source": [
    "df[['SK_ID_CURR', 'AMT_INCOME_TOTAL']]"
   ]
  },
  {
   "cell_type": "markdown",
   "id": "55cf7441",
   "metadata": {},
   "source": [
    "##### Create New Column: CATEGORY"
   ]
  },
  {
   "cell_type": "code",
   "execution_count": null,
   "id": "76e0edaf",
   "metadata": {},
   "outputs": [],
   "source": [
    "avg_income = df['AMT_INCOME_TOTAL'].sum()/df['AMT_INCOME_TOTAL'].count()\n",
    "\n",
    "def category(df):\n",
    "    if df['AMT_INCOME_TOTAL'] < avg_income:\n",
    "        ctg = 'lower class'\n",
    "    elif df['AMT_INCOME_TOTAL'] == avg_income:\n",
    "        ctg = 'middle class'\n",
    "    else:\n",
    "        ctg = 'high class'\n",
    "    return ctg\n",
    "\n",
    "df['CATEGORY'] = df.apply(category, axis = 1)\n",
    "df['CATEGORY']"
   ]
  },
  {
   "cell_type": "markdown",
   "id": "1767394e",
   "metadata": {},
   "source": [
    "##### Count The Data by Category"
   ]
  },
  {
   "cell_type": "code",
   "execution_count": null,
   "id": "c7852016",
   "metadata": {},
   "outputs": [],
   "source": [
    "group_class = df.groupby('CATEGORY')['SK_ID_CURR'].count()\n",
    "group_class"
   ]
  },
  {
   "cell_type": "markdown",
   "id": "02919319",
   "metadata": {},
   "source": [
    "##### Create The Visualization of Data: Pie Chart"
   ]
  },
  {
   "cell_type": "code",
   "execution_count": null,
   "id": "cb4babc0",
   "metadata": {},
   "outputs": [],
   "source": [
    "labels = ['lower class', 'high class']\n",
    "quantity = [27816, 20928]\n",
    "colors = ['lightcoral', 'lightskyblue']\n",
    "\n",
    "plt.title('CLIENT GROUP BY INCOME')\n",
    "plt.pie(quantity, labels = labels, colors = colors,\n",
    "       autopct='%1.1f%%', shadow=True, startangle=90)\n",
    "\n",
    "plt.axis('equal')\n",
    "plt.show()"
   ]
  },
  {
   "cell_type": "markdown",
   "id": "7d8fdf25",
   "metadata": {},
   "source": [
    "### OBJECTIVE 2"
   ]
  },
  {
   "cell_type": "markdown",
   "id": "959ddbe5",
   "metadata": {},
   "source": [
    "##### Load Data"
   ]
  },
  {
   "cell_type": "code",
   "execution_count": null,
   "id": "171bd25d",
   "metadata": {},
   "outputs": [],
   "source": [
    "import numpy as npy\n",
    "import pandas as pds\n",
    "import matplotlib.pyplot as pyp\n",
    "\n",
    "fileLoc = '../COURSE/RAKAMIN DATA SCIENTIST/INTERNSHIP/WEEK 4/TASK/home-credit-default-risk/previous_application.csv'\n",
    "dtf = pds.read_csv(fileLoc)"
   ]
  },
  {
   "cell_type": "markdown",
   "id": "c8c010ea",
   "metadata": {},
   "source": [
    "##### Group the Client Type"
   ]
  },
  {
   "cell_type": "code",
   "execution_count": null,
   "id": "6e53503d",
   "metadata": {},
   "outputs": [],
   "source": [
    "client_type_count = dtf.groupby('NAME_CLIENT_TYPE')['SK_ID_PREV'].count()\n",
    "client_type_count"
   ]
  },
  {
   "cell_type": "markdown",
   "id": "87aafd33",
   "metadata": {},
   "source": [
    "##### Count the New Client: [New, Refreshed, XNA]"
   ]
  },
  {
   "cell_type": "code",
   "execution_count": null,
   "id": "f3bd5155",
   "metadata": {},
   "outputs": [],
   "source": [
    "new_client = dtf[ (dtf['NAME_CLIENT_TYPE'] == 'New') | (dtf['NAME_CLIENT_TYPE'] == 'Refreshed') | (dtf['NAME_CLIENT_TYPE'] == 'XNA')]\n",
    "new_client['SK_ID_PREV'].count()"
   ]
  },
  {
   "cell_type": "markdown",
   "id": "a31bcc38",
   "metadata": {},
   "source": [
    "##### Count the Previous Client: [Repeater]"
   ]
  },
  {
   "cell_type": "code",
   "execution_count": null,
   "id": "a2535d62",
   "metadata": {},
   "outputs": [],
   "source": [
    "old_client = dtf[ (dtf['NAME_CLIENT_TYPE'] == 'Repeater') ]\n",
    "old_client['SK_ID_PREV'].count()"
   ]
  },
  {
   "cell_type": "markdown",
   "id": "262717a9",
   "metadata": {},
   "source": [
    "##### Create the Visualization Data: Pie Chart"
   ]
  },
  {
   "cell_type": "code",
   "execution_count": null,
   "id": "83484ea7",
   "metadata": {},
   "outputs": [],
   "source": [
    "labels = ['new client', 'old client']\n",
    "quantity = [new_client['SK_ID_PREV'].count(), old_client['SK_ID_PREV'].count()]\n",
    "colors = ['yellow', 'lightskyblue']\n",
    "\n",
    "plt.title('CLIENT\\'S OPPORTUNITY USING CREDIT MORE THAN ONCE')\n",
    "plt.pie(quantity, labels = labels, colors = colors,\n",
    "       autopct='%1.1f%%', shadow=True, startangle=90)\n",
    "\n",
    "plt.axis('equal')\n",
    "plt.show()"
   ]
  }
 ],
 "metadata": {
  "kernelspec": {
   "display_name": "Python 3 (ipykernel)",
   "language": "python",
   "name": "python3"
  },
  "language_info": {
   "codemirror_mode": {
    "name": "ipython",
    "version": 3
   },
   "file_extension": ".py",
   "mimetype": "text/x-python",
   "name": "python",
   "nbconvert_exporter": "python",
   "pygments_lexer": "ipython3",
   "version": "3.10.5"
  }
 },
 "nbformat": 4,
 "nbformat_minor": 5
}
